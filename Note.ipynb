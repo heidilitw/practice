{
  "nbformat": 4,
  "nbformat_minor": 0,
  "metadata": {
    "colab": {
      "name": "Note.ipynb",
      "provenance": [],
      "authorship_tag": "ABX9TyMj4xJ6nKuAW4livub9+BdI",
      "include_colab_link": true
    },
    "kernelspec": {
      "name": "python3",
      "display_name": "Python 3"
    },
    "language_info": {
      "name": "python"
    }
  },
  "cells": [
    {
      "cell_type": "markdown",
      "metadata": {
        "id": "view-in-github",
        "colab_type": "text"
      },
      "source": [
        "<a href=\"https://colab.research.google.com/github/heidilitw/practice/blob/master/Note.ipynb\" target=\"_parent\"><img src=\"https://colab.research.google.com/assets/colab-badge.svg\" alt=\"Open In Colab\"/></a>"
      ]
    },
    {
      "cell_type": "code",
      "metadata": {
        "id": "YxSN6qs4ijmY"
      },
      "source": [
        "import os\n",
        "import csv"
      ],
      "execution_count": 1,
      "outputs": []
    }
  ]
}